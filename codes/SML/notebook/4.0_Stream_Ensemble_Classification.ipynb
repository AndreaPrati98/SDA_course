{
 "cells": [
  {
   "cell_type": "markdown",
   "metadata": {},
   "source": [
    "# Stream Ensemble Classification\n",
    "---\n",
    "\n",
    "## `NEWeather` dataset\n",
    "\n",
    "**Description:** The National Oceanic and Atmospheric Administration (NOAA),\n",
    "has compiled a database of weather measurements from over 7,000 weather \n",
    "stations worldwide. Records date back to the mid-1900s. Daily measurements\n",
    "include a variety of features (temperature, pressure, wind speed, etc.) as\n",
    "well as a series of indicators for precipitation and other weather-related\n",
    "events. The `NEweather` dataset contains data from this database, specifically\n",
    "from the Offutt Air Force Base in Bellevue, Nebraska ranging for over 50 years\n",
    "(1949-1999).\n",
    "\n",
    "**Features:** 8 Daily weather measurements\n",
    " \n",
    "|       Attribute      | Description |\n",
    "|:--------------------:|:-----------------------------|\n",
    "| `temp`                   | Temperature\n",
    "| `dew_pnt`                | Dew Point\n",
    "| `sea_lvl_press`          | Sea Level Pressure\n",
    "| `visibility`             | Visibility\n",
    "| `avg_wind_spd`           | Average Wind Speed\n",
    "| `max_sustained_wind_spd` | Maximum Sustained Wind Speed\n",
    "| `max_temp`               | Maximum Temperature\n",
    "| `min_temp`               | Minimum Temperature\n",
    "\n",
    "\n",
    "**Class:** `rain` | 0: no rain, 1: rain\n",
    " \n",
    "**Samples:** 18,159\n"
   ]
  },
  {
   "cell_type": "code",
   "execution_count": 1,
   "metadata": {},
   "outputs": [],
   "source": [
    "import pandas as pd\n",
    "from river.stream import iter_pandas\n",
    "from river.metrics import Metrics,Accuracy,BalancedAccuracy,CohenKappa,GeometricMean\n",
    "from river.evaluate import progressive_val_score"
   ]
  },
  {
   "cell_type": "code",
   "execution_count": 2,
   "metadata": {},
   "outputs": [],
   "source": [
    "data = pd.read_csv(\"../datasets/NEweather.csv\")\n",
    "features = data.columns[:-1]"
   ]
  },
  {
   "cell_type": "markdown",
   "metadata": {},
   "source": [
    "## Online Bagging\n",
    "\n",
    "---\n",
    "[Online Bagging](https://riverml.xyz/latest/api/ensemble/BaggingClassifier/) is an Online bootstrap aggregation for classification."
   ]
  },
  {
   "cell_type": "code",
   "execution_count": 3,
   "metadata": {
    "scrolled": true
   },
   "outputs": [
    {
     "name": "stdout",
     "output_type": "stream",
     "text": [
      "[1,000] Accuracy: 70.77%, BalancedAccuracy: 67.47%, GeometricMean: 66.80%, CohenKappa: 34.45%\n",
      "[2,000] Accuracy: 70.29%, BalancedAccuracy: 66.94%, GeometricMean: 66.42%, CohenKappa: 32.37%\n",
      "[3,000] Accuracy: 71.29%, BalancedAccuracy: 62.56%, GeometricMean: 59.04%, CohenKappa: 26.45%\n",
      "[4,000] Accuracy: 71.82%, BalancedAccuracy: 61.73%, GeometricMean: 56.61%, CohenKappa: 25.72%\n",
      "[5,000] Accuracy: 72.67%, BalancedAccuracy: 62.70%, GeometricMean: 57.67%, CohenKappa: 27.97%\n",
      "[6,000] Accuracy: 73.18%, BalancedAccuracy: 63.95%, GeometricMean: 59.71%, CohenKappa: 30.34%\n",
      "[7,000] Accuracy: 74.10%, BalancedAccuracy: 65.01%, GeometricMean: 61.06%, CohenKappa: 32.60%\n",
      "[8,000] Accuracy: 73.83%, BalancedAccuracy: 64.93%, GeometricMean: 61.02%, CohenKappa: 32.39%\n",
      "[9,000] Accuracy: 73.95%, BalancedAccuracy: 64.68%, GeometricMean: 60.30%, CohenKappa: 32.20%\n",
      "[10,000] Accuracy: 74.11%, BalancedAccuracy: 64.59%, GeometricMean: 60.03%, CohenKappa: 32.14%\n",
      "[11,000] Accuracy: 74.56%, BalancedAccuracy: 64.71%, GeometricMean: 59.98%, CohenKappa: 32.57%\n",
      "[12,000] Accuracy: 74.81%, BalancedAccuracy: 64.54%, GeometricMean: 59.55%, CohenKappa: 32.39%\n",
      "[13,000] Accuracy: 74.93%, BalancedAccuracy: 64.68%, GeometricMean: 59.55%, CohenKappa: 32.83%\n",
      "[14,000] Accuracy: 74.83%, BalancedAccuracy: 64.98%, GeometricMean: 59.94%, CohenKappa: 33.50%\n",
      "[15,000] Accuracy: 75.03%, BalancedAccuracy: 65.22%, GeometricMean: 60.23%, CohenKappa: 34.04%\n",
      "[16,000] Accuracy: 75.00%, BalancedAccuracy: 65.76%, GeometricMean: 61.10%, CohenKappa: 35.04%\n",
      "[17,000] Accuracy: 75.05%, BalancedAccuracy: 66.26%, GeometricMean: 62.02%, CohenKappa: 35.85%\n",
      "[18,000] Accuracy: 74.69%, BalancedAccuracy: 66.42%, GeometricMean: 62.56%, CohenKappa: 35.88%\n"
     ]
    },
    {
     "data": {
      "text/plain": [
       "Accuracy: 74.68%, BalancedAccuracy: 66.38%, GeometricMean: 62.53%, CohenKappa: 35.78%"
      ]
     },
     "execution_count": 3,
     "metadata": {},
     "output_type": "execute_result"
    }
   ],
   "source": [
    "from river.ensemble import BaggingClassifier\n",
    "from river.tree import HoeffdingTreeClassifier\n",
    "\n",
    "model = BaggingClassifier(model=HoeffdingTreeClassifier(),\n",
    "                          n_models=10,\n",
    "                          seed=42)\n",
    "metrics = Metrics(metrics=[Accuracy(),BalancedAccuracy(),GeometricMean(),CohenKappa()])\n",
    "stream = iter_pandas(X=data[features], y=data['rain'])\n",
    "\n",
    "progressive_val_score(dataset=stream,\n",
    "                      model=model,\n",
    "                      metric=metrics,\n",
    "                      print_every=1000)"
   ]
  },
  {
   "cell_type": "markdown",
   "metadata": {},
   "source": [
    "## Leveraging Bagging\n",
    "---\n",
    "\n",
    "[Leveraging Bagging](https://riverml.xyz/latest/api/ensemble/LeveragingBaggingClassifier/) is an improvement over the Oza Bagging algorithm. The bagging performance is leveraged by increasing the re-sampling. It uses a poisson distribution to simulate the re-sampling process. To increase re-sampling it uses a higher w value of the Poisson distribution (agerage number of events), 6 by default, increasing the input space diversity, by attributing a different range of weights to the data samples.\n",
    "\n",
    "To deal with concept drift, Leveraging Bagging uses the ADWIN algorithm to monitor the performance of each member of the enemble If concept drift is detected, the worst member of the ensemble (based on the error estimation by ADWIN) is replaced by a new (empty) classifier."
   ]
  },
  {
   "cell_type": "code",
   "execution_count": 4,
   "metadata": {},
   "outputs": [
    {
     "name": "stdout",
     "output_type": "stream",
     "text": [
      "[1,000] Accuracy: 76.48%, BalancedAccuracy: 73.05%, GeometricMean: 72.38%, CohenKappa: 46.29%\n",
      "[2,000] Accuracy: 78.04%, BalancedAccuracy: 71.86%, GeometricMean: 70.18%, CohenKappa: 45.52%\n",
      "[3,000] Accuracy: 78.53%, BalancedAccuracy: 70.76%, GeometricMean: 68.33%, CohenKappa: 44.29%\n",
      "[4,000] Accuracy: 78.02%, BalancedAccuracy: 69.92%, GeometricMean: 67.08%, CohenKappa: 42.99%\n",
      "[5,000] Accuracy: 77.88%, BalancedAccuracy: 69.91%, GeometricMean: 67.10%, CohenKappa: 42.92%\n",
      "[6,000] Accuracy: 77.81%, BalancedAccuracy: 70.48%, GeometricMean: 68.09%, CohenKappa: 43.60%\n",
      "[7,000] Accuracy: 78.25%, BalancedAccuracy: 71.20%, GeometricMean: 69.05%, CohenKappa: 44.86%\n",
      "[8,000] Accuracy: 77.85%, BalancedAccuracy: 70.79%, GeometricMean: 68.56%, CohenKappa: 44.05%\n",
      "[9,000] Accuracy: 77.75%, BalancedAccuracy: 70.38%, GeometricMean: 67.88%, CohenKappa: 43.57%\n",
      "[10,000] Accuracy: 77.98%, BalancedAccuracy: 70.44%, GeometricMean: 67.87%, CohenKappa: 43.83%\n",
      "[11,000] Accuracy: 78.14%, BalancedAccuracy: 70.44%, GeometricMean: 67.84%, CohenKappa: 43.86%\n",
      "[12,000] Accuracy: 78.25%, BalancedAccuracy: 70.38%, GeometricMean: 67.74%, CohenKappa: 43.74%\n",
      "[13,000] Accuracy: 78.39%, BalancedAccuracy: 70.70%, GeometricMean: 68.12%, CohenKappa: 44.44%\n",
      "[14,000] Accuracy: 78.28%, BalancedAccuracy: 70.92%, GeometricMean: 68.39%, CohenKappa: 44.90%\n",
      "[15,000] Accuracy: 78.45%, BalancedAccuracy: 71.18%, GeometricMean: 68.72%, CohenKappa: 45.42%\n",
      "[16,000] Accuracy: 78.52%, BalancedAccuracy: 71.70%, GeometricMean: 69.41%, CohenKappa: 46.37%\n",
      "[17,000] Accuracy: 78.45%, BalancedAccuracy: 71.93%, GeometricMean: 69.82%, CohenKappa: 46.60%\n",
      "[18,000] Accuracy: 78.22%, BalancedAccuracy: 72.22%, GeometricMean: 70.39%, CohenKappa: 46.81%\n"
     ]
    },
    {
     "data": {
      "text/plain": [
       "Accuracy: 78.24%, BalancedAccuracy: 72.22%, GeometricMean: 70.38%, CohenKappa: 46.79%"
      ]
     },
     "execution_count": 4,
     "metadata": {},
     "output_type": "execute_result"
    }
   ],
   "source": [
    "from river.ensemble import LeveragingBaggingClassifier\n",
    "from river.tree import HoeffdingTreeClassifier\n",
    "\n",
    "model = LeveragingBaggingClassifier(model=HoeffdingTreeClassifier(),\n",
    "                          n_models=10,\n",
    "                          seed=42)\n",
    "metrics = Metrics(metrics=[Accuracy(),BalancedAccuracy(),GeometricMean(),CohenKappa()])\n",
    "stream = iter_pandas(X=data[features], y=data['rain'])\n",
    "\n",
    "progressive_val_score(dataset=stream,\n",
    "                      model=model,\n",
    "                      metric=metrics,\n",
    "                      print_every=1000)"
   ]
  },
  {
   "cell_type": "markdown",
   "metadata": {},
   "source": [
    "## AdaptiveRandomForest\n",
    "---\n",
    "\n",
    "\n",
    "\n",
    "The 3 most important aspects of [ARF](https://riverml.xyz/latest/api/ensemble/AdaptiveRandomForestClassifier/) are:\n",
    "- inducing diversity through re-sampling\n",
    "- inducing diversity through randomly selecting subsets of features for node splits\n",
    "- drift detectors per base tree, which cause selective resets in response to drifts\n",
    "\n",
    "It also allows training background trees, which start training if a warning is detected and replace the active tree if the warning escalates to a drift."
   ]
  },
  {
   "cell_type": "code",
   "execution_count": 5,
   "metadata": {},
   "outputs": [
    {
     "name": "stdout",
     "output_type": "stream",
     "text": [
      "[1,000] Accuracy: 73.37%, BalancedAccuracy: 64.82%, GeometricMean: 59.95%, CohenKappa: 32.86%\n",
      "[2,000] Accuracy: 75.44%, BalancedAccuracy: 64.70%, GeometricMean: 58.89%, CohenKappa: 33.44%\n",
      "[3,000] Accuracy: 77.29%, BalancedAccuracy: 66.10%, GeometricMean: 60.54%, CohenKappa: 36.82%\n",
      "[4,000] Accuracy: 77.27%, BalancedAccuracy: 66.26%, GeometricMean: 60.58%, CohenKappa: 37.31%\n",
      "[5,000] Accuracy: 77.44%, BalancedAccuracy: 66.98%, GeometricMean: 61.81%, CohenKappa: 38.60%\n",
      "[6,000] Accuracy: 77.20%, BalancedAccuracy: 67.44%, GeometricMean: 62.95%, CohenKappa: 39.04%\n",
      "[7,000] Accuracy: 77.84%, BalancedAccuracy: 68.51%, GeometricMean: 64.55%, CohenKappa: 41.07%\n",
      "[8,000] Accuracy: 77.67%, BalancedAccuracy: 68.71%, GeometricMean: 64.98%, CohenKappa: 41.29%\n",
      "[9,000] Accuracy: 77.62%, BalancedAccuracy: 68.54%, GeometricMean: 64.60%, CohenKappa: 41.11%\n",
      "[10,000] Accuracy: 77.75%, BalancedAccuracy: 68.52%, GeometricMean: 64.51%, CohenKappa: 41.16%\n",
      "[11,000] Accuracy: 78.00%, BalancedAccuracy: 68.60%, GeometricMean: 64.57%, CohenKappa: 41.39%\n",
      "[12,000] Accuracy: 78.18%, BalancedAccuracy: 68.74%, GeometricMean: 64.81%, CohenKappa: 41.61%\n",
      "[13,000] Accuracy: 78.25%, BalancedAccuracy: 69.03%, GeometricMean: 65.19%, CohenKappa: 42.22%\n",
      "[14,000] Accuracy: 78.05%, BalancedAccuracy: 69.17%, GeometricMean: 65.37%, CohenKappa: 42.49%\n",
      "[15,000] Accuracy: 78.16%, BalancedAccuracy: 69.34%, GeometricMean: 65.58%, CohenKappa: 42.85%\n",
      "[16,000] Accuracy: 78.17%, BalancedAccuracy: 69.80%, GeometricMean: 66.23%, CohenKappa: 43.70%\n",
      "[17,000] Accuracy: 78.20%, BalancedAccuracy: 70.14%, GeometricMean: 66.80%, CohenKappa: 44.20%\n",
      "[18,000] Accuracy: 77.97%, BalancedAccuracy: 70.54%, GeometricMean: 67.64%, CohenKappa: 44.57%\n"
     ]
    },
    {
     "data": {
      "text/plain": [
       "Accuracy: 77.99%, BalancedAccuracy: 70.55%, GeometricMean: 67.66%, CohenKappa: 44.57%"
      ]
     },
     "execution_count": 5,
     "metadata": {},
     "output_type": "execute_result"
    }
   ],
   "source": [
    "from river.ensemble import AdaptiveRandomForestClassifier\n",
    "\n",
    "model = AdaptiveRandomForestClassifier(n_models=10)\n",
    "metrics = Metrics(metrics=[Accuracy(),BalancedAccuracy(),GeometricMean(),CohenKappa()])\n",
    "stream = iter_pandas(X=data[features], y=data['rain'])\n",
    "\n",
    "progressive_val_score(dataset=stream,\n",
    "                      model=model,\n",
    "                      metric=metrics,\n",
    "                      print_every=1000)"
   ]
  },
  {
   "cell_type": "markdown",
   "metadata": {},
   "source": [
    "## StreamingRandomPatches\n",
    "---\n",
    "[SRP](https://riverml.xyz/latest/api/ensemble/SRPClassifier/) is an ensemble method that simulates bagging or random subspaces. The default algorithm uses both bagging and random subspaces, namely Random Patches. The default base estimator is a Hoeffding Tree, but other base estimators can be used (differently from random forest variations)."
   ]
  },
  {
   "cell_type": "code",
   "execution_count": 6,
   "metadata": {},
   "outputs": [
    {
     "name": "stdout",
     "output_type": "stream",
     "text": [
      "[1,000] Accuracy: 74.77%, BalancedAccuracy: 67.28%, GeometricMean: 63.73%, CohenKappa: 37.59%\n",
      "[2,000] Accuracy: 76.49%, BalancedAccuracy: 66.64%, GeometricMean: 61.95%, CohenKappa: 37.27%\n",
      "[3,000] Accuracy: 77.89%, BalancedAccuracy: 67.07%, GeometricMean: 61.97%, CohenKappa: 38.83%\n",
      "[4,000] Accuracy: 77.99%, BalancedAccuracy: 67.64%, GeometricMean: 62.74%, CohenKappa: 40.01%\n",
      "[5,000] Accuracy: 78.06%, BalancedAccuracy: 67.94%, GeometricMean: 63.20%, CohenKappa: 40.59%\n",
      "[6,000] Accuracy: 77.93%, BalancedAccuracy: 68.11%, GeometricMean: 63.60%, CohenKappa: 40.72%\n",
      "[7,000] Accuracy: 78.37%, BalancedAccuracy: 68.79%, GeometricMean: 64.63%, CohenKappa: 42.02%\n",
      "[8,000] Accuracy: 77.95%, BalancedAccuracy: 68.55%, GeometricMean: 64.42%, CohenKappa: 41.38%\n",
      "[9,000] Accuracy: 77.90%, BalancedAccuracy: 68.42%, GeometricMean: 64.12%, CohenKappa: 41.26%\n",
      "[10,000] Accuracy: 78.09%, BalancedAccuracy: 68.56%, GeometricMean: 64.27%, CohenKappa: 41.58%\n",
      "[11,000] Accuracy: 78.34%, BalancedAccuracy: 68.67%, GeometricMean: 64.40%, CohenKappa: 41.87%\n",
      "[12,000] Accuracy: 78.50%, BalancedAccuracy: 68.61%, GeometricMean: 64.28%, CohenKappa: 41.80%\n",
      "[13,000] Accuracy: 78.58%, BalancedAccuracy: 68.92%, GeometricMean: 64.70%, CohenKappa: 42.45%\n",
      "[14,000] Accuracy: 78.31%, BalancedAccuracy: 69.05%, GeometricMean: 64.88%, CohenKappa: 42.63%\n",
      "[15,000] Accuracy: 78.39%, BalancedAccuracy: 69.19%, GeometricMean: 65.07%, CohenKappa: 42.91%\n",
      "[16,000] Accuracy: 78.34%, BalancedAccuracy: 69.64%, GeometricMean: 65.77%, CohenKappa: 43.70%\n",
      "[17,000] Accuracy: 78.46%, BalancedAccuracy: 70.08%, GeometricMean: 66.47%, CohenKappa: 44.43%\n",
      "[18,000] Accuracy: 78.34%, BalancedAccuracy: 70.55%, GeometricMean: 67.34%, CohenKappa: 45.01%\n"
     ]
    },
    {
     "data": {
      "text/plain": [
       "Accuracy: 78.37%, BalancedAccuracy: 70.53%, GeometricMean: 67.31%, CohenKappa: 44.97%"
      ]
     },
     "execution_count": 6,
     "metadata": {},
     "output_type": "execute_result"
    }
   ],
   "source": [
    "from river.ensemble import SRPClassifier\n",
    "from river.tree import HoeffdingTreeClassifier\n",
    "\n",
    "model = SRPClassifier(model=HoeffdingTreeClassifier(),\n",
    "                      n_models=10,\n",
    "                      seed=42)\n",
    "metrics = Metrics(metrics=[Accuracy(),BalancedAccuracy(),GeometricMean(),CohenKappa()])\n",
    "stream = iter_pandas(X=data[features], y=data['rain'])\n",
    "\n",
    "progressive_val_score(dataset=stream, \n",
    "                      model=model, \n",
    "                      metric=metrics, \n",
    "                      print_every=1000)"
   ]
  },
  {
   "cell_type": "markdown",
   "metadata": {},
   "source": [
    "## Concept Drift Impact\n",
    "\n",
    "Concept drift can negatively impact learning methods if not properly handled. Multiple real-world applications suffer **model degradation** as the models can not adapt to changes in the data.\n",
    "\n",
    "---\n",
    "## `AGRAWAL` dataset\n",
    "\n",
    "We will load the data from a csv file. The data was generated using the `AGRAWAL` data generator with 3 **gradual drifts** at the 5k, 10k, and 15k marks. It contains 9 features, 6 numeric and 3 categorical.\n",
    "\n",
    "There are 10 functions for generating binary class labels from the features. These functions determine whether a **loan** should be approved.\n",
    "\n",
    "| Feature    | Description            | Values                                                                |\n",
    "|------------|------------------------|-----------------------------------------------------------------------|\n",
    "| `salary`     | salary                 | uniformly distributed from 20k to 150k                                |\n",
    "| `commission` | commission             | if (salary <   75k) then 0 else uniformly distributed from 10k to 75k |\n",
    "| `age`        | age                    | uniformly distributed from 20 to 80                                   |\n",
    "| `elevel`     | education level        | uniformly chosen from 0 to 4                                          |\n",
    "| `car`        | car maker              | uniformly chosen from 1 to 20                                         |\n",
    "| `zipcode`    | zip code of the town   | uniformly chosen from 0 to 8                                          |\n",
    "| `hvalue`     | value of the house     | uniformly distributed from 50k x zipcode to 100k x zipcode            |\n",
    "| `hyears`     | years house owned      | uniformly distributed from 1 to 30                                    |\n",
    "| `loan`       | total loan amount      | uniformly distributed from 0 to 500k                                  |\n",
    "\n",
    "**Class:** `y` | 0: no loan, 1: loan\n",
    " \n",
    "**Samples:** 20,000\n",
    "\n",
    "`elevel`, `car`, and `zipcode` are categorical features."
   ]
  },
  {
   "cell_type": "code",
   "execution_count": 7,
   "metadata": {},
   "outputs": [],
   "source": [
    "data = pd.read_csv(\"../datasets/agr_a_20k.csv\")\n",
    "features = data.columns[:-1]"
   ]
  },
  {
   "cell_type": "markdown",
   "metadata": {},
   "source": [
    "## ADWIN Online Bagging\n",
    "\n",
    "---\n",
    "[ADWIN Online Bagging](https://riverml.xyz/latest/api/ensemble/ADWINBaggingClassifier/) is the online bagging method with the addition of the ADWIN algorithm as a change detector. If concept drift is detected, the worst member of the ensemble (based on the error estimation by ADWIN) is replaced by a new (empty) classifier."
   ]
  },
  {
   "cell_type": "code",
   "execution_count": 8,
   "metadata": {},
   "outputs": [
    {
     "name": "stdout",
     "output_type": "stream",
     "text": [
      "[1,000] Accuracy: 81.58%, BalancedAccuracy: 74.02%, GeometricMean: 70.47%, CohenKappa: 53.69%\n",
      "[2,000] Accuracy: 86.14%, BalancedAccuracy: 82.00%, GeometricMean: 80.97%, CohenKappa: 67.48%\n",
      "[3,000] Accuracy: 87.23%, BalancedAccuracy: 83.85%, GeometricMean: 83.22%, CohenKappa: 70.30%\n",
      "[4,000] Accuracy: 88.45%, BalancedAccuracy: 85.52%, GeometricMean: 85.09%, CohenKappa: 73.12%\n",
      "[5,000] Accuracy: 88.52%, BalancedAccuracy: 85.62%, GeometricMean: 85.19%, CohenKappa: 73.36%\n",
      "[6,000] Accuracy: 83.41%, BalancedAccuracy: 80.88%, GeometricMean: 80.23%, CohenKappa: 63.61%\n",
      "[7,000] Accuracy: 80.48%, BalancedAccuracy: 78.94%, GeometricMean: 78.45%, CohenKappa: 58.95%\n",
      "[8,000] Accuracy: 79.11%, BalancedAccuracy: 78.21%, GeometricMean: 77.89%, CohenKappa: 57.05%\n",
      "[9,000] Accuracy: 77.32%, BalancedAccuracy: 76.88%, GeometricMean: 76.70%, CohenKappa: 54.05%\n",
      "[10,000] Accuracy: 75.84%, BalancedAccuracy: 75.62%, GeometricMean: 75.51%, CohenKappa: 51.38%\n",
      "[11,000] Accuracy: 74.11%, BalancedAccuracy: 73.87%, GeometricMean: 73.82%, CohenKappa: 47.80%\n",
      "[12,000] Accuracy: 73.91%, BalancedAccuracy: 73.55%, GeometricMean: 73.47%, CohenKappa: 47.19%\n",
      "[13,000] Accuracy: 74.34%, BalancedAccuracy: 73.78%, GeometricMean: 73.62%, CohenKappa: 47.75%\n",
      "[14,000] Accuracy: 74.69%, BalancedAccuracy: 73.86%, GeometricMean: 73.61%, CohenKappa: 48.05%\n",
      "[15,000] Accuracy: 75.09%, BalancedAccuracy: 74.04%, GeometricMean: 73.70%, CohenKappa: 48.55%\n",
      "[16,000] Accuracy: 74.31%, BalancedAccuracy: 73.32%, GeometricMean: 72.91%, CohenKappa: 47.17%\n",
      "[17,000] Accuracy: 73.69%, BalancedAccuracy: 72.87%, GeometricMean: 72.46%, CohenKappa: 46.23%\n",
      "[18,000] Accuracy: 73.50%, BalancedAccuracy: 72.86%, GeometricMean: 72.49%, CohenKappa: 46.13%\n",
      "[19,000] Accuracy: 73.31%, BalancedAccuracy: 72.85%, GeometricMean: 72.54%, CohenKappa: 46.01%\n",
      "[20,000] Accuracy: 73.14%, BalancedAccuracy: 72.81%, GeometricMean: 72.55%, CohenKappa: 45.86%\n"
     ]
    },
    {
     "data": {
      "text/plain": [
       "Accuracy: 73.14%, BalancedAccuracy: 72.81%, GeometricMean: 72.55%, CohenKappa: 45.86%"
      ]
     },
     "execution_count": 8,
     "metadata": {},
     "output_type": "execute_result"
    }
   ],
   "source": [
    "from river.ensemble import ADWINBaggingClassifier\n",
    "from river.tree import HoeffdingTreeClassifier\n",
    "\n",
    "model = ADWINBaggingClassifier(model=HoeffdingTreeClassifier(nominal_attributes=['elevel', 'car', 'zipcode']),\n",
    "                          n_models=10,\n",
    "                          seed=42)\n",
    "metrics = Metrics(metrics=[Accuracy(),BalancedAccuracy(),GeometricMean(),CohenKappa()])\n",
    "stream = iter_pandas(X=data[features], y=data['class'])\n",
    "\n",
    "progressive_val_score(dataset=stream,\n",
    "                      model=model,\n",
    "                      metric=metrics,\n",
    "                      print_every=1000)"
   ]
  },
  {
   "cell_type": "markdown",
   "metadata": {},
   "source": [
    "## Leveraging Bagging"
   ]
  },
  {
   "cell_type": "code",
   "execution_count": 9,
   "metadata": {},
   "outputs": [
    {
     "name": "stdout",
     "output_type": "stream",
     "text": [
      "[1,000] Accuracy: 73.17%, BalancedAccuracy: 65.54%, GeometricMean: 61.41%, CohenKappa: 33.99%\n",
      "[2,000] Accuracy: 77.89%, BalancedAccuracy: 71.38%, GeometricMean: 68.40%, CohenKappa: 46.49%\n",
      "[3,000] Accuracy: 79.96%, BalancedAccuracy: 73.86%, GeometricMean: 71.46%, CohenKappa: 51.53%\n",
      "[4,000] Accuracy: 81.95%, BalancedAccuracy: 76.14%, GeometricMean: 74.20%, CohenKappa: 56.17%\n",
      "[5,000] Accuracy: 83.22%, BalancedAccuracy: 78.06%, GeometricMean: 76.53%, CohenKappa: 59.73%\n",
      "[6,000] Accuracy: 78.45%, BalancedAccuracy: 74.95%, GeometricMean: 73.60%, CohenKappa: 52.08%\n",
      "[7,000] Accuracy: 75.97%, BalancedAccuracy: 74.10%, GeometricMean: 73.35%, CohenKappa: 49.27%\n",
      "[8,000] Accuracy: 74.92%, BalancedAccuracy: 73.91%, GeometricMean: 73.49%, CohenKappa: 48.40%\n",
      "[9,000] Accuracy: 74.24%, BalancedAccuracy: 73.75%, GeometricMean: 73.52%, CohenKappa: 47.79%\n",
      "[10,000] Accuracy: 73.60%, BalancedAccuracy: 73.38%, GeometricMean: 73.27%, CohenKappa: 46.88%\n",
      "[11,000] Accuracy: 72.16%, BalancedAccuracy: 71.94%, GeometricMean: 71.88%, CohenKappa: 43.91%\n",
      "[12,000] Accuracy: 73.06%, BalancedAccuracy: 72.75%, GeometricMean: 72.68%, CohenKappa: 45.53%\n",
      "[13,000] Accuracy: 73.86%, BalancedAccuracy: 73.38%, GeometricMean: 73.27%, CohenKappa: 46.86%\n",
      "[14,000] Accuracy: 74.98%, BalancedAccuracy: 74.35%, GeometricMean: 74.21%, CohenKappa: 48.85%\n",
      "[15,000] Accuracy: 75.92%, BalancedAccuracy: 75.18%, GeometricMean: 75.02%, CohenKappa: 50.56%\n",
      "[16,000] Accuracy: 74.88%, BalancedAccuracy: 74.25%, GeometricMean: 74.09%, CohenKappa: 48.71%\n",
      "[17,000] Accuracy: 74.52%, BalancedAccuracy: 74.13%, GeometricMean: 74.04%, CohenKappa: 48.36%\n",
      "[18,000] Accuracy: 74.19%, BalancedAccuracy: 73.96%, GeometricMean: 73.91%, CohenKappa: 47.95%\n",
      "[19,000] Accuracy: 74.00%, BalancedAccuracy: 73.88%, GeometricMean: 73.86%, CohenKappa: 47.76%\n",
      "[20,000] Accuracy: 73.68%, BalancedAccuracy: 73.62%, GeometricMean: 73.61%, CohenKappa: 47.23%\n"
     ]
    },
    {
     "data": {
      "text/plain": [
       "Accuracy: 73.68%, BalancedAccuracy: 73.62%, GeometricMean: 73.61%, CohenKappa: 47.23%"
      ]
     },
     "execution_count": 9,
     "metadata": {},
     "output_type": "execute_result"
    }
   ],
   "source": [
    "from river.ensemble import LeveragingBaggingClassifier\n",
    "from river.tree import HoeffdingTreeClassifier\n",
    "\n",
    "model = LeveragingBaggingClassifier(model=HoeffdingTreeClassifier(nominal_attributes=['elevel', 'car', 'zipcode']),\n",
    "                          n_models=10,\n",
    "                          seed=42)\n",
    "metrics = Metrics(metrics=[Accuracy(),BalancedAccuracy(),GeometricMean(),CohenKappa()])\n",
    "stream = iter_pandas(X=data[features], y=data['class'])\n",
    "\n",
    "progressive_val_score(dataset=stream,\n",
    "                      model=model,\n",
    "                      metric=metrics,\n",
    "                      print_every=1000)"
   ]
  },
  {
   "cell_type": "markdown",
   "metadata": {},
   "source": [
    "## AdaptiveRandomForest"
   ]
  },
  {
   "cell_type": "code",
   "execution_count": 10,
   "metadata": {},
   "outputs": [
    {
     "name": "stdout",
     "output_type": "stream",
     "text": [
      "[1,000] Accuracy: 70.57%, BalancedAccuracy: 62.16%, GeometricMean: 56.81%, CohenKappa: 26.87%\n",
      "[2,000] Accuracy: 73.79%, BalancedAccuracy: 65.96%, GeometricMean: 61.22%, CohenKappa: 35.36%\n",
      "[3,000] Accuracy: 75.59%, BalancedAccuracy: 67.61%, GeometricMean: 63.05%, CohenKappa: 39.18%\n",
      "[4,000] Accuracy: 77.27%, BalancedAccuracy: 69.18%, GeometricMean: 64.94%, CohenKappa: 42.75%\n",
      "[5,000] Accuracy: 77.86%, BalancedAccuracy: 70.02%, GeometricMean: 66.01%, CohenKappa: 44.51%\n",
      "[6,000] Accuracy: 73.30%, BalancedAccuracy: 67.74%, GeometricMean: 63.90%, CohenKappa: 38.41%\n",
      "[7,000] Accuracy: 71.60%, BalancedAccuracy: 68.78%, GeometricMean: 66.93%, CohenKappa: 39.04%\n",
      "[8,000] Accuracy: 70.61%, BalancedAccuracy: 69.25%, GeometricMean: 68.44%, CohenKappa: 39.18%\n",
      "[9,000] Accuracy: 70.01%, BalancedAccuracy: 69.43%, GeometricMean: 69.10%, CohenKappa: 39.14%\n",
      "[10,000] Accuracy: 69.69%, BalancedAccuracy: 69.50%, GeometricMean: 69.41%, CohenKappa: 39.07%\n",
      "[11,000] Accuracy: 67.70%, BalancedAccuracy: 67.60%, GeometricMean: 67.59%, CohenKappa: 35.12%\n",
      "[12,000] Accuracy: 68.21%, BalancedAccuracy: 68.02%, GeometricMean: 68.00%, CohenKappa: 35.95%\n",
      "[13,000] Accuracy: 68.94%, BalancedAccuracy: 68.62%, GeometricMean: 68.56%, CohenKappa: 37.15%\n",
      "[14,000] Accuracy: 69.75%, BalancedAccuracy: 69.25%, GeometricMean: 69.15%, CohenKappa: 38.44%\n",
      "[15,000] Accuracy: 70.40%, BalancedAccuracy: 69.76%, GeometricMean: 69.62%, CohenKappa: 39.49%\n",
      "[16,000] Accuracy: 69.39%, BalancedAccuracy: 68.72%, GeometricMean: 68.53%, CohenKappa: 37.56%\n",
      "[17,000] Accuracy: 69.17%, BalancedAccuracy: 68.69%, GeometricMean: 68.53%, CohenKappa: 37.48%\n",
      "[18,000] Accuracy: 69.19%, BalancedAccuracy: 68.88%, GeometricMean: 68.79%, CohenKappa: 37.82%\n",
      "[19,000] Accuracy: 69.21%, BalancedAccuracy: 69.02%, GeometricMean: 68.97%, CohenKappa: 38.09%\n",
      "[20,000] Accuracy: 69.22%, BalancedAccuracy: 69.12%, GeometricMean: 69.10%, CohenKappa: 38.25%\n"
     ]
    },
    {
     "data": {
      "text/plain": [
       "Accuracy: 69.22%, BalancedAccuracy: 69.12%, GeometricMean: 69.10%, CohenKappa: 38.25%"
      ]
     },
     "execution_count": 10,
     "metadata": {},
     "output_type": "execute_result"
    }
   ],
   "source": [
    "from river.ensemble import AdaptiveRandomForestClassifier\n",
    "\n",
    "model = AdaptiveRandomForestClassifier(n_models=10,nominal_attributes=['elevel', 'car', 'zipcode'])\n",
    "metrics = Metrics(metrics=[Accuracy(),BalancedAccuracy(),GeometricMean(),CohenKappa()])\n",
    "stream = iter_pandas(X=data[features], y=data['class'])\n",
    "\n",
    "progressive_val_score(dataset=stream,\n",
    "                      model=model,\n",
    "                      metric=metrics,\n",
    "                      print_every=1000)"
   ]
  },
  {
   "cell_type": "markdown",
   "metadata": {},
   "source": [
    "## StreamingRandomPatches\n",
    "---\n",
    "We set the drift and warning detection options"
   ]
  },
  {
   "cell_type": "code",
   "execution_count": 11,
   "metadata": {},
   "outputs": [
    {
     "name": "stdout",
     "output_type": "stream",
     "text": [
      "[1,000] Accuracy: 89.29%, BalancedAccuracy: 85.81%, GeometricMean: 85.17%, CohenKappa: 74.82%\n",
      "[2,000] Accuracy: 91.75%, BalancedAccuracy: 89.38%, GeometricMean: 89.07%, CohenKappa: 81.08%\n",
      "[3,000] Accuracy: 92.43%, BalancedAccuracy: 90.39%, GeometricMean: 90.17%, CohenKappa: 82.65%\n",
      "[4,000] Accuracy: 93.05%, BalancedAccuracy: 91.22%, GeometricMean: 91.06%, CohenKappa: 83.99%\n",
      "[5,000] Accuracy: 93.26%, BalancedAccuracy: 91.55%, GeometricMean: 91.41%, CohenKappa: 84.54%\n",
      "[6,000] Accuracy: 87.45%, BalancedAccuracy: 86.54%, GeometricMean: 86.46%, CohenKappa: 73.21%\n",
      "[7,000] Accuracy: 84.27%, BalancedAccuracy: 84.02%, GeometricMean: 84.01%, CohenKappa: 67.68%\n",
      "[8,000] Accuracy: 82.37%, BalancedAccuracy: 82.40%, GeometricMean: 82.40%, CohenKappa: 64.39%\n",
      "[9,000] Accuracy: 80.71%, BalancedAccuracy: 80.85%, GeometricMean: 80.84%, CohenKappa: 61.36%\n",
      "[10,000] Accuracy: 79.03%, BalancedAccuracy: 79.22%, GeometricMean: 79.14%, CohenKappa: 58.14%\n",
      "[11,000] Accuracy: 77.40%, BalancedAccuracy: 77.67%, GeometricMean: 77.60%, CohenKappa: 54.88%\n",
      "[12,000] Accuracy: 78.25%, BalancedAccuracy: 78.45%, GeometricMean: 78.42%, CohenKappa: 56.42%\n",
      "[13,000] Accuracy: 79.33%, BalancedAccuracy: 79.48%, GeometricMean: 79.47%, CohenKappa: 58.44%\n",
      "[14,000] Accuracy: 80.45%, BalancedAccuracy: 80.56%, GeometricMean: 80.56%, CohenKappa: 60.54%\n",
      "[15,000] Accuracy: 81.35%, BalancedAccuracy: 81.41%, GeometricMean: 81.41%, CohenKappa: 62.23%\n",
      "[16,000] Accuracy: 80.50%, BalancedAccuracy: 80.50%, GeometricMean: 80.50%, CohenKappa: 60.61%\n",
      "[17,000] Accuracy: 80.34%, BalancedAccuracy: 80.40%, GeometricMean: 80.39%, CohenKappa: 60.46%\n",
      "[18,000] Accuracy: 80.23%, BalancedAccuracy: 80.31%, GeometricMean: 80.30%, CohenKappa: 60.35%\n",
      "[19,000] Accuracy: 80.23%, BalancedAccuracy: 80.32%, GeometricMean: 80.31%, CohenKappa: 60.42%\n",
      "[20,000] Accuracy: 80.08%, BalancedAccuracy: 80.16%, GeometricMean: 80.15%, CohenKappa: 60.17%\n"
     ]
    },
    {
     "data": {
      "text/plain": [
       "Accuracy: 80.08%, BalancedAccuracy: 80.16%, GeometricMean: 80.15%, CohenKappa: 60.17%"
      ]
     },
     "execution_count": 11,
     "metadata": {},
     "output_type": "execute_result"
    }
   ],
   "source": [
    "from river.ensemble import SRPClassifier\n",
    "from river.tree import HoeffdingTreeClassifier\n",
    "from river.drift import ADWIN\n",
    "\n",
    "model = SRPClassifier(model=HoeffdingTreeClassifier(nominal_attributes=['elevel', 'car', 'zipcode']),\n",
    "                      n_models=10,\n",
    "                      drift_detector=ADWIN(delta=0.001),\n",
    "                      warning_detector=ADWIN(delta=0.01),\n",
    "                      seed=42)\n",
    "\n",
    "metrics = Metrics(metrics=[Accuracy(),BalancedAccuracy(),GeometricMean(),CohenKappa()])\n",
    "stream = iter_pandas(X=data[features], y=data['class'])\n",
    "\n",
    "progressive_val_score(dataset=stream, \n",
    "                      model=model, \n",
    "                      metric=metrics, \n",
    "                      print_every=1000)"
   ]
  }
 ],
 "metadata": {
  "kernelspec": {
   "display_name": "Python 3 (ipykernel)",
   "language": "python",
   "name": "python3"
  },
  "language_info": {
   "codemirror_mode": {
    "name": "ipython",
    "version": 3
   },
   "file_extension": ".py",
   "mimetype": "text/x-python",
   "name": "python",
   "nbconvert_exporter": "python",
   "pygments_lexer": "ipython3",
   "version": "3.11.0"
  }
 },
 "nbformat": 4,
 "nbformat_minor": 4
}
